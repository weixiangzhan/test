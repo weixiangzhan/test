{
 "cells": [
  {
   "cell_type": "markdown",
   "metadata": {},
   "source": [
    "# Logistic 回归\n",
    "Logistic回归中，输出(Y = 1)的对数几率是输入 x 的线性函数，思路 : \n",
    "\n",
    "1. 先拟合决策边界（不局限于线性，还可以是多项式）\n",
    "2. 再建立这个边界和分类概率的关系\n",
    "3. 从而得到二分类情况下的概率"
   ]
  },
  {
   "cell_type": "code",
   "execution_count": 80,
   "metadata": {},
   "outputs": [],
   "source": [
    "import numpy as np\n",
    "import matplotlib.pyplot as plt\n",
    "import torch\n",
    "from torch import nn\n",
    "from torch import optim\n",
    "from torch.autograd import Variable"
   ]
  },
  {
   "cell_type": "code",
   "execution_count": 95,
   "metadata": {},
   "outputs": [
    {
     "name": "stdout",
     "output_type": "stream",
     "text": [
      "tensor([[34.6237, 78.0247],\n",
      "        [30.2867, 43.8950],\n",
      "        [35.8474, 72.9022],\n",
      "        [45.0833, 56.3164],\n",
      "        [95.8616, 38.2253],\n",
      "        [75.0137, 30.6033],\n",
      "        [39.5383, 76.0368],\n",
      "        [67.9469, 46.6786],\n",
      "        [67.3720, 42.8384],\n",
      "        [50.5348, 48.8558],\n",
      "        [34.2121, 44.2095],\n",
      "        [93.1144, 38.8007],\n",
      "        [61.8302, 50.2561],\n",
      "        [38.7858, 64.9957],\n",
      "        [52.1080, 63.1276],\n",
      "        [40.2369, 71.1677],\n",
      "        [54.6351, 52.2139],\n",
      "        [33.9155, 98.8694],\n",
      "        [74.7893, 41.5734],\n",
      "        [34.1836, 75.2377],\n",
      "        [51.5477, 46.8563],\n",
      "        [82.3688, 40.6183],\n",
      "        [51.0478, 45.8227],\n",
      "        [62.2227, 52.0610],\n",
      "        [34.5245, 60.3963],\n",
      "        [50.2865, 49.8045],\n",
      "        [49.5867, 59.8090],\n",
      "        [32.5772, 95.5985],\n",
      "        [35.2861, 47.0205],\n",
      "        [56.2538, 39.2615],\n",
      "        [30.0588, 49.5930],\n",
      "        [44.6683, 66.4501],\n",
      "        [66.5609, 41.0921],\n",
      "        [49.0726, 51.8832],\n",
      "        [32.7228, 43.3072],\n",
      "        [60.4556, 42.5084],\n",
      "        [82.2267, 42.7199],\n",
      "        [42.0755, 78.8448],\n",
      "        [52.3480, 60.7695],\n",
      "        [55.4822, 35.5707],\n",
      "        [60.1826, 86.3086],\n",
      "        [79.0327, 75.3444],\n",
      "        [61.1067, 96.5114],\n",
      "        [75.0247, 46.5540],\n",
      "        [76.0988, 87.4206],\n",
      "        [84.4328, 43.5334],\n",
      "        [82.3071, 76.4820],\n",
      "        [69.3646, 97.7187],\n",
      "        [53.9711, 89.2074],\n",
      "        [69.0701, 52.7405],\n",
      "        [70.6615, 92.9271],\n",
      "        [76.9788, 47.5760],\n",
      "        [89.6768, 65.7994],\n",
      "        [77.9241, 68.9724],\n",
      "        [62.2710, 69.9545],\n",
      "        [80.1902, 44.8216],\n",
      "        [61.3793, 72.8079],\n",
      "        [85.4045, 57.0520],\n",
      "        [52.0454, 69.4329],\n",
      "        [64.1770, 80.9081],\n",
      "        [83.9024, 56.3080],\n",
      "        [94.4434, 65.5689],\n",
      "        [77.1930, 70.4582],\n",
      "        [97.7716, 86.7278],\n",
      "        [62.0731, 96.7688],\n",
      "        [91.5650, 88.6963],\n",
      "        [79.9448, 74.1631],\n",
      "        [99.2725, 60.9990],\n",
      "        [90.5467, 43.3906],\n",
      "        [97.6456, 68.8616],\n",
      "        [74.2487, 69.8246],\n",
      "        [71.7965, 78.4536],\n",
      "        [75.3956, 85.7599],\n",
      "        [40.4576, 97.5352],\n",
      "        [80.2796, 92.1161],\n",
      "        [66.7467, 60.9914],\n",
      "        [64.0393, 78.0317],\n",
      "        [72.3465, 96.2276],\n",
      "        [60.4579, 73.0950],\n",
      "        [58.8410, 75.8585],\n",
      "        [99.8279, 72.3693],\n",
      "        [47.2643, 88.4759],\n",
      "        [50.4582, 75.8099],\n",
      "        [88.9139, 69.8038],\n",
      "        [94.8345, 45.6943],\n",
      "        [67.3193, 66.5894],\n",
      "        [57.2387, 59.5143],\n",
      "        [80.3668, 90.9602],\n",
      "        [68.4685, 85.5943],\n",
      "        [75.4777, 90.4245],\n",
      "        [78.6354, 96.6474],\n",
      "        [94.0943, 77.1591],\n",
      "        [90.4485, 87.5088],\n",
      "        [74.4927, 84.8451],\n",
      "        [89.8458, 45.3583],\n",
      "        [83.4892, 48.3803],\n",
      "        [42.2617, 87.1039],\n",
      "        [99.3150, 68.7754],\n",
      "        [55.3400, 64.9319],\n",
      "        [74.7759, 89.5298]]) tensor([0., 0., 0., 0., 0., 0., 0., 0., 0., 0., 0., 0., 0., 0., 0., 0., 0., 0.,\n",
      "        0., 0., 0., 0., 0., 0., 0., 0., 0., 0., 0., 0., 0., 0., 0., 0., 0., 0.,\n",
      "        0., 0., 0., 0., 1., 1., 1., 1., 1., 1., 1., 1., 1., 1., 1., 1., 1., 1.,\n",
      "        1., 1., 1., 1., 1., 1., 1., 1., 1., 1., 1., 1., 1., 1., 1., 1., 1., 1.,\n",
      "        1., 1., 1., 1., 1., 1., 1., 1., 1., 1., 1., 1., 1., 1., 1., 1., 1., 1.,\n",
      "        1., 1., 1., 1., 1., 1., 1., 1., 1., 1.])\n"
     ]
    }
   ],
   "source": [
    "\n",
    "with open('data.txt') as f :\n",
    "    data = f.read().split('\\n')\n",
    "    data = [row.split(',') for row in data][:-1]\n",
    "  \n",
    "    x0 = np.array([(float(row[0]), float(row[1])) for row in data if row[2] == '0'])\n",
    "    x1 = np.array([(float(row[0]), float(row[1])) for row in data if row[2] == '1'])\n",
    "    y0 = np.array([float(row[2]) for row in data if row[2] == '0'])\n",
    "    y1 = np.array([float(row[2]) for row in data if row[2] == '1'])\n",
    "#x0, y0 = label0[:, 0], label0[:, 1]\n",
    "#x1, y1 = label1[:, 0], label1[:, 1]\n",
    "x0 = torch.from_numpy(x0).float()\n",
    "x1 = torch.from_numpy(x1).float()\n",
    "y0 = torch.from_numpy(y0).float()\n",
    "y1 = torch.from_numpy(y1).float()\n",
    "# 注意 x, y 数据的数据形式是一定要像下面一样 (torch.cat 是在合并数据)\n",
    "x = torch.cat((x0, x1), 0).type(torch.FloatTensor)  # FloatTensor = 32-bit floating\n",
    "y = torch.cat((y0, y1), 0).type(torch.FloatTensor)    # LongTensor = 64-bit integer\n",
    "print(x,y)\n",
    "#plt.scatter(x.data.numpy()[:, 0], x.data.numpy()[:, 1], c=y.data.numpy(), lw=0, cmap='RdYlGn')\n",
    "#plt.show()"
   ]
  },
  {
   "cell_type": "code",
   "execution_count": null,
   "metadata": {},
   "outputs": [],
   "source": []
  },
  {
   "cell_type": "code",
   "execution_count": 96,
   "metadata": {},
   "outputs": [],
   "source": [
    "# 定义模型\n",
    "\n",
    "class logisticRegression(nn.Module) :\n",
    "    def __init__(self) :\n",
    "        super().__init__()\n",
    "        self.line = nn.Linear(2, 1)\n",
    "        self.smd = nn.Sigmoid()\n",
    "    def forward(self, x) :\n",
    "        x = self.line(x)\n",
    "        return self.smd(x)\n",
    "\n",
    "logistic = logisticRegression()\n",
    "\n",
    "if torch.cuda.is_available() :\n",
    "    logistic.cuda()"
   ]
  },
  {
   "cell_type": "code",
   "execution_count": 97,
   "metadata": {},
   "outputs": [],
   "source": [
    "# 定义损失函数为二分类交叉熵(Binary Cross Entropy)\n",
    "criterion = nn.BCELoss()\n",
    "# 定义优化函数为随机梯度下降(Sochastic Gradient Descent)\n",
    "optimizer = optim.SGD(logistic.parameters(), lr = 1e-3, momentum = 0.9)"
   ]
  },
  {
   "cell_type": "markdown",
   "metadata": {},
   "source": [
    "解释一下两个部分\n",
    "\n",
    "#### BCELoss()\n",
    "它的定义是 $loss(o, t) = \\frac 1 n \\sum_i(t[i] * log(o[i]) + (1 - t[i]) * log(1 - o[i]))$\n",
    "\n",
    "以上来源于[torch.nn.BCELoss](http://pytorch.org/docs/master/nn.html?highlight=nn%20bceloss#torch.nn.BCELoss)\n",
    "#### SGD函数，它带有一个参数 `momentum = 0.9`，这表示动量。\n",
    "\n",
    "这种优化方法来源于[On the importance of initialization and momentum in deep learning](http://www.cs.toronto.edu/~hinton/absps/momentum.pdf)\n",
    "\n",
    "它的优化方式为 : $$v = \\rho * v + g \\\\ p = p - lr * v$$\n",
    "其中，p, g, v, $\\rho$ 分别表示待更新的参数parameters，求得的梯度gradient，速度velocity，和动量momentum\n",
    "\n",
    "以上来源于[官网](http://pytorch.org/docs/master/optim.html)关于torch.optim.SGD的note"
   ]
  },
  {
   "cell_type": "code",
   "execution_count": 100,
   "metadata": {},
   "outputs": [
    {
     "name": "stdout",
     "output_type": "stream",
     "text": [
      "**********\n",
      "epoch 10000\n",
      "loss is 11.0524\n",
      "correct rate is 60.0000\n",
      "**********\n",
      "epoch 20000\n",
      "loss is 11.0524\n",
      "correct rate is 60.0000\n",
      "**********\n",
      "epoch 30000\n",
      "loss is 11.0524\n",
      "correct rate is 60.0000\n",
      "**********\n",
      "epoch 40000\n",
      "loss is 11.0524\n",
      "correct rate is 60.0000\n",
      "**********\n",
      "epoch 50000\n",
      "loss is 11.0524\n",
      "correct rate is 60.0000\n"
     ]
    }
   ],
   "source": [
    "# 开始训练\n",
    "epoches = 50000\n",
    "for epoch in range(epoches) :\n",
    "    if torch.cuda.is_available() :\n",
    "        x_data = Variable(x).cuda()\n",
    "        y_data = Variable(y).cuda()\n",
    "    else :\n",
    "        x_data = Variable(x)\n",
    "        y_data = Variable(y)\n",
    "    \n",
    "    # forward 前向计算\n",
    "    out = logistic(x_data)\n",
    "    loss = criterion(out, y_data)\n",
    "    \n",
    "    # 计算准确率\n",
    "    print_loss = loss.item()\n",
    "    mask = out.ge(0.5).float()\n",
    "    # print('size : {} - {}'.format(mask.size(), y.size()))\n",
    "    correct = (mask == y_data).sum()\n",
    "    acc = correct.item() / x_data.size(0)\n",
    "    \n",
    "    # BP回朔\n",
    "    optimizer.zero_grad()\n",
    "    loss.backward()\n",
    "    optimizer.step()\n",
    "    if (epoch + 1) % 10000 == 0 :\n",
    "        print('*' * 10)\n",
    "        print('epoch {}'.format(epoch + 1))\n",
    "        print('loss is {:.4f}'.format(print_loss))\n",
    "        print('correct rate is {:.4f}'.format(acc))\n"
   ]
  },
  {
   "cell_type": "code",
   "execution_count": 99,
   "metadata": {},
   "outputs": [
    {
     "data": {
      "image/png": "[encoded data removed]",
      "text/plain": [
       "<Figure size 432x288 with 1 Axes>"
      ]
     },
     "metadata": {
      "needs_background": "light"
     },
     "output_type": "display_data"
    }
   ],
   "source": [
    "w0, w1= logistic.line.weight[0]\n",
    "w0 = float(w0.item())\n",
    "w1 = float(w1.item())\n",
    "b = float(logistic.line.bias.item())\n",
    "\n",
    "plot_x = np.arange(30, 100, 0.1)\n",
    "plot_y = (-w0 * plot_x - b) / w1\n",
    "\n",
    "\n",
    "plt.scatter(x.data.numpy()[:, 0], x.data.numpy()[:, 1], c=y.data.numpy(), s=100, lw=0, cmap='RdYlGn')\n",
    "plt.plot(plot_x, plot_y)\n",
    "plt.show()"
   ]
  },
  {
   "cell_type": "code",
   "execution_count": null,
   "metadata": {},
   "outputs": [],
   "source": []
  }
 ],
 "metadata": {
  "kernelspec": {
   "display_name": "Python 3",
   "language": "python",
   "name": "python3"
  },
  "language_info": {
   "codemirror_mode": {
    "name": "ipython",
    "version": 3
   },
   "file_extension": ".py",
   "mimetype": "text/x-python",
   "name": "python",
   "nbconvert_exporter": "python",
   "pygments_lexer": "ipython3",
   "version": "3.7.3"
  }
 },
 "nbformat": 4,
 "nbformat_minor": 2
}
