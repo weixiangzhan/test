{
 "cells": [
  {
   "cell_type": "code",
   "execution_count": 2,
   "metadata": {},
   "outputs": [],
   "source": [
    "import torch\n",
    "from torch import nn\n",
    "from torch.autograd import Variable\n",
    "import matplotlib.pyplot as plt\n",
    "%matplotlib inline"
   ]
  },
  {
   "cell_type": "code",
   "execution_count": 3,
   "metadata": {},
   "outputs": [
    {
     "data": {
      "text/plain": [
       "<torch._C.Generator at 0x2d72fe14ad0>"
      ]
     },
     "execution_count": 3,
     "metadata": {},
     "output_type": "execute_result"
    }
   ],
   "source": [
    "torch.manual_seed(1)"
   ]
  },
  {
   "cell_type": "code",
   "execution_count": 19,
   "metadata": {},
   "outputs": [
    {
     "data": {
      "image/png": "[encoded data removed]",
      "text/plain": [
       "<Figure size 432x288 with 1 Axes>"
      ]
     },
     "metadata": {
      "needs_background": "light"
     },
     "output_type": "display_data"
    }
   ],
   "source": [
    "x = torch.unsqueeze(torch.linspace(5,-5,100),1)\n",
    "y =  10 * x+ 0.8 * torch.randn(x.size())\n",
    "plt.scatter(x,y)\n",
    "plt.show()"
   ]
  },
  {
   "cell_type": "code",
   "execution_count": 20,
   "metadata": {},
   "outputs": [],
   "source": [
    "class LinearRegression(nn.Module):\n",
    "    def __init__(self):\n",
    "        super(LinearRegression,self).__init__()\n",
    "        self.linear = nn.Linear(1,1)\n",
    "        \n",
    "    def forward(self,x):\n",
    "        out = self.linear(x)\n",
    "        return out\n",
    "    \n",
    "if torch.cuda.is_available():\n",
    "    model = LinearRegression().cuda()\n",
    "else:\n",
    "    model = LinearRegression()"
   ]
  },
  {
   "cell_type": "code",
   "execution_count": 21,
   "metadata": {},
   "outputs": [],
   "source": [
    "criterion = nn.MSELoss()\n",
    "optimizer = torch.optim.SGD(model.parameters(),lr = 1e-3)"
   ]
  },
  {
   "cell_type": "code",
   "execution_count": 22,
   "metadata": {},
   "outputs": [
    {
     "name": "stdout",
     "output_type": "stream",
     "text": [
      "Epoch [20/1000],loss:512.522888\n",
      "Epoch [40/1000],loss:137.573334\n",
      "Epoch [60/1000],loss:6.954600\n",
      "Epoch [80/1000],loss:254.706390\n",
      "Epoch [100/1000],loss:625.981995\n",
      "Epoch [120/1000],loss:739.222778\n",
      "Epoch [140/1000],loss:477.838348\n",
      "Epoch [160/1000],loss:110.409378\n",
      "Epoch [180/1000],loss:15.086708\n",
      "Epoch [200/1000],loss:290.081512\n",
      "Epoch [220/1000],loss:652.243408\n",
      "Epoch [240/1000],loss:729.034668\n",
      "Epoch [260/1000],loss:441.791748\n",
      "Epoch [280/1000],loss:85.855049\n",
      "Epoch [300/1000],loss:27.048851\n",
      "Epoch [320/1000],loss:326.080414\n",
      "Epoch [340/1000],loss:675.559143\n",
      "Epoch [360/1000],loss:715.728882\n",
      "Epoch [380/1000],loss:405.224365\n",
      "Epoch [400/1000],loss:63.735401\n",
      "Epoch [420/1000],loss:42.411324\n",
      "Epoch [440/1000],loss:362.903412\n",
      "Epoch [460/1000],loss:695.781189\n",
      "Epoch [480/1000],loss:698.852783\n",
      "Epoch [500/1000],loss:368.664520\n",
      "Epoch [520/1000],loss:44.769726\n",
      "Epoch [540/1000],loss:60.631737\n",
      "Epoch [560/1000],loss:399.859100\n",
      "Epoch [580/1000],loss:713.251221\n",
      "Epoch [600/1000],loss:678.669373\n",
      "Epoch [620/1000],loss:331.883667\n",
      "Epoch [640/1000],loss:29.292959\n",
      "Epoch [660/1000],loss:82.050987\n",
      "Epoch [680/1000],loss:436.214752\n",
      "Epoch [700/1000],loss:727.445923\n",
      "Epoch [720/1000],loss:655.904236\n",
      "Epoch [740/1000],loss:295.363983\n",
      "Epoch [760/1000],loss:16.871214\n",
      "Epoch [780/1000],loss:106.588295\n",
      "Epoch [800/1000],loss:472.147064\n",
      "Epoch [820/1000],loss:737.872314\n",
      "Epoch [840/1000],loss:630.402710\n",
      "Epoch [860/1000],loss:259.977020\n",
      "Epoch [880/1000],loss:7.775788\n",
      "Epoch [900/1000],loss:133.422455\n",
      "Epoch [920/1000],loss:507.408112\n",
      "Epoch [940/1000],loss:744.966248\n",
      "Epoch [960/1000],loss:602.075500\n",
      "Epoch [980/1000],loss:225.671463\n",
      "Epoch [1000/1000],loss:2.600275\n"
     ]
    }
   ],
   "source": [
    "num_epochs = 1000\n",
    "for epoch in range(num_epochs):\n",
    "    if torch.cuda.is_available():\n",
    "        inputs = Variable(x).cuda()\n",
    "        target = Variable(y).cuda()\n",
    "    else:\n",
    "        inputs = Variable(x)\n",
    "        target = Variable(y)\n",
    "    \n",
    "    out = model(inputs)\n",
    "    loss = criterion(out, target)\n",
    "    \n",
    "    opterizer.zero_grad()\n",
    "    loss.backward()\n",
    "    optimizer.step()\n",
    "    \n",
    "    \n",
    "    if (epoch+1) % 20 == 0:\n",
    "        print('Epoch [{}/{}],loss:{:.6f}'.format(epoch+1,num_epochs,loss.item()))"
   ]
  },
  {
   "cell_type": "code",
   "execution_count": 1,
   "metadata": {},
   "outputs": [
    {
     "ename": "NameError",
     "evalue": "name 'model' is not defined",
     "output_type": "error",
     "traceback": [
      "\u001b[1;31m---------------------------------------------------------------------------\u001b[0m",
      "\u001b[1;31mNameError\u001b[0m                                 Traceback (most recent call last)",
      "\u001b[1;32m<ipython-input-1-67f96fad7f04>\u001b[0m in \u001b[0;36m<module>\u001b[1;34m\u001b[0m\n\u001b[1;32m----> 1\u001b[1;33m \u001b[0mmodel\u001b[0m\u001b[1;33m.\u001b[0m\u001b[0meval\u001b[0m\u001b[1;33m(\u001b[0m\u001b[1;33m)\u001b[0m\u001b[1;33m\u001b[0m\u001b[1;33m\u001b[0m\u001b[0m\n\u001b[0m",
      "\u001b[1;31mNameError\u001b[0m: name 'model' is not defined"
     ]
    }
   ],
   "source": [
    "model.eval()"
   ]
  },
  {
   "cell_type": "code",
   "execution_count": 23,
   "metadata": {},
   "outputs": [
    {
     "data": {
      "image/png": "[encoded data removed]",
      "text/plain": [
       "<Figure size 432x288 with 1 Axes>"
      ]
     },
     "metadata": {
      "needs_background": "light"
     },
     "output_type": "display_data"
    }
   ],
   "source": [
    "model.eval()\n",
    "predict = model(Variable(x))\n",
    "predict = predict.data.numpy()\n",
    "plt.plot(x.numpy(),y.numpy(),'ro',label = 'Original data')\n",
    "plt.plot(x.numpy(),predict,label = 'Fitting Line')\n",
    "plt.show()"
   ]
  },
  {
   "cell_type": "code",
   "execution_count": null,
   "metadata": {},
   "outputs": [],
   "source": []
  }
 ],
 "metadata": {
  "kernelspec": {
   "display_name": "Python 3",
   "language": "python",
   "name": "python3"
  },
  "language_info": {
   "codemirror_mode": {
    "name": "ipython",
    "version": 3
   },
   "file_extension": ".py",
   "mimetype": "text/x-python",
   "name": "python",
   "nbconvert_exporter": "python",
   "pygments_lexer": "ipython3",
   "version": "3.7.3"
  }
 },
 "nbformat": 4,
 "nbformat_minor": 2
}
