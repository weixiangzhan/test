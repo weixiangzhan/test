{
 "cells": [
  {
   "cell_type": "code",
   "execution_count": 74,
   "metadata": {},
   "outputs": [],
   "source": [
    "import torch\n",
    "from torch import nn\n",
    "from torch.autograd import Variable\n",
    "import matplotlib.pyplot as plt\n",
    "%matplotlib inline"
   ]
  },
  {
   "cell_type": "code",
   "execution_count": 75,
   "metadata": {},
   "outputs": [],
   "source": [
    "n = 4\n",
    "def make_features(x) :\n",
    "    x = x.unsqueeze(1)\n",
    "    return torch.cat([x ** i for i in range(1, n + 1)], 1)"
   ]
  },
  {
   "cell_type": "code",
   "execution_count": 76,
   "metadata": {},
   "outputs": [],
   "source": [
    "import random\n",
    "W_target = torch.FloatTensor([random.randint(-1000, 1000) * 0.01 for i in range(n)]).unsqueeze(1)\n",
    "b_target = torch.FloatTensor([random.randint(-100, 1000) * 0.01])"
   ]
  },
  {
   "cell_type": "code",
   "execution_count": 77,
   "metadata": {},
   "outputs": [],
   "source": [
    "# 定义实际函数\n",
    "\n",
    "def f(x) :\n",
    "    return x.mm(W_target) + b_target[0]"
   ]
  },
  {
   "cell_type": "code",
   "execution_count": 78,
   "metadata": {},
   "outputs": [],
   "source": [
    "# 生成训练集。随机取数，然后生成x，然后生成y\n",
    "\n",
    "def get_batch(batch_size = 32, random = None) :\n",
    "    if random is None :\n",
    "        random = torch.randn(batch_size)\n",
    "    batch_size = random.size()\n",
    "    x = make_features(random)\n",
    "    y = f(x)\n",
    "    if torch.cuda.is_available() :\n",
    "        return Variable(x).cuda(), Variable(y).cuda()\n",
    "    else :\n",
    "        return Variable(x), Variable(y)"
   ]
  },
  {
   "cell_type": "code",
   "execution_count": 79,
   "metadata": {},
   "outputs": [],
   "source": [
    "class LinearRegression(nn.Module):\n",
    "    def __init__(self,n):\n",
    "        super(LinearRegression,self).__init__()\n",
    "        self.linear = nn.Linear(n,1)\n",
    "        \n",
    "    def forward(self,x):\n",
    "        out = self.linear(x)\n",
    "        return out\n",
    "    \n",
    "if torch.cuda.is_available():\n",
    "    model = LinearRegression(n).cuda()\n",
    "else:\n",
    "    model = LinearRegression(n)"
   ]
  },
  {
   "cell_type": "code",
   "execution_count": 80,
   "metadata": {},
   "outputs": [],
   "source": [
    "criterion = nn.MSELoss()\n",
    "optimizer = torch.optim.SGD(model.parameters(),lr = 1e-3)"
   ]
  },
  {
   "cell_type": "code",
   "execution_count": 81,
   "metadata": {},
   "outputs": [
    {
     "name": "stdout",
     "output_type": "stream",
     "text": [
      "the number of epoches : 7607\n"
     ]
    }
   ],
   "source": [
    "# 开始训练\n",
    "\n",
    "epoch = 0\n",
    "while True :\n",
    "    # 获得数据\n",
    "    batch_x, batch_y = get_batch()\n",
    "    # 前向计算\n",
    "    output = model(batch_x)\n",
    "    # 计算损失函数\n",
    "    loss = criterion(output, batch_y)\n",
    "    print_loss = loss.item()\n",
    "    # 参数更新\n",
    "    optimizer.zero_grad()\n",
    "    loss.backward()\n",
    "    optimizer.step()\n",
    "    \n",
    "    epoch += 1\n",
    "    if print_loss < 1e-3 :\n",
    "        break\n",
    "\n",
    "print(\"the number of epoches :\", epoch)"
   ]
  },
  {
   "cell_type": "code",
   "execution_count": 82,
   "metadata": {},
   "outputs": [
    {
     "data": {
      "image/png": "[encoded data removed]",
      "text/plain": [
       "<Figure size 432x288 with 1 Axes>"
      ]
     },
     "metadata": {
      "needs_background": "light"
     },
     "output_type": "display_data"
    }
   ],
   "source": [
    "import numpy as np\n",
    "x = [random.randint(-200, 200) * 0.01 for i in range(20)]\n",
    "x = np.array(sorted(x))\n",
    "feature_x, y = get_batch(random = torch.from_numpy(x).float())\n",
    "y = y.data.numpy()\n",
    "plt.plot(x, y, 'bo', label='Original data')\n",
    "\n",
    "model.eval()\n",
    "x_sample = np.arange(-2, 2, 0.01)\n",
    "x, y = get_batch(random = torch.from_numpy(x_sample).float())\n",
    "y = model(x)\n",
    "y_sample = y.data.numpy()\n",
    "plt.plot(x_sample, y_sample,'y-', label = 'Fitting Line')\n",
    "plt.show()\n",
    "\n",
    "def get_batch(batch_size = 32, random = None) :\n",
    "    if random is None :\n",
    "        random = torch.randn(batch_size)\n",
    "    batch_size = random.size()\n",
    "    x = make_features(random)\n",
    "    y = f(x)\n",
    "    if torch.cuda.is_available() :\n",
    "        return Variable(x).cuda(), Variable(y).cuda()\n",
    "    else :\n",
    "        return Variable(x), Variable(y)\n"
   ]
  },
  {
   "cell_type": "code",
   "execution_count": 83,
   "metadata": {},
   "outputs": [
    {
     "name": "stdout",
     "output_type": "stream",
     "text": [
      "predicted function : y = 7.90 * x^4 + -5.78 * x^3 + -9.70 * x^2 + 1.31 * x^1 + -0.79\n",
      "real      function : y = 7.91 * x^4 + -5.78 * x^3 + -9.75 * x^2 + 1.32 * x^1 + -0.74\n"
     ]
    }
   ],
   "source": [
    "# 定义函数输出形式\n",
    "def func_format(weight, bias, n) :\n",
    "    func = ''\n",
    "    for i in range(n, 0, -1) :\n",
    "        func += ' {:.2f} * x^{} +'.format(weight[i - 1], i)\n",
    "    return 'y =' + func + ' {:.2f}'.format(bias[0])\n",
    "    \n",
    "predict_weight = model.linear.weight.data.numpy().flatten()\n",
    "predict_bias = model.linear.bias.data.numpy().flatten()\n",
    "print('predicted function :', func_format(predict_weight, predict_bias, n))\n",
    "real_W = W_target.numpy().flatten()\n",
    "real_b = b_target.numpy().flatten()\n",
    "print('real      function :', func_format(real_W, real_b, n))"
   ]
  },
  {
   "cell_type": "code",
   "execution_count": null,
   "metadata": {},
   "outputs": [],
   "source": []
  }
 ],
 "metadata": {
  "kernelspec": {
   "display_name": "Python 3",
   "language": "python",
   "name": "python3"
  },
  "language_info": {
   "codemirror_mode": {
    "name": "ipython",
    "version": 3
   },
   "file_extension": ".py",
   "mimetype": "text/x-python",
   "name": "python",
   "nbconvert_exporter": "python",
   "pygments_lexer": "ipython3",
   "version": "3.7.3"
  }
 },
 "nbformat": 4,
 "nbformat_minor": 2
}
